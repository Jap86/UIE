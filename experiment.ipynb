{
 "cells": [
  {
   "cell_type": "markdown",
   "metadata": {},
   "source": [
    "##### Imports"
   ]
  },
  {
   "cell_type": "code",
   "execution_count": 1,
   "metadata": {},
   "outputs": [],
   "source": [
    "import cv2 as cv\n",
    "import tools\n",
    "import random\n",
    "from os.path import join\n",
    "import degpackage\n",
    "import enhpackage\n",
    "import qualitypackage\n",
    "import edgepackage\n",
    "\n",
    "import numpy as np\n",
    "import matplotlib.pyplot as plt\n",
    "%matplotlib inline"
   ]
  },
  {
   "cell_type": "markdown",
   "metadata": {},
   "source": [
    "##### Data Loader"
   ]
  },
  {
   "cell_type": "code",
   "execution_count": 2,
   "metadata": {},
   "outputs": [],
   "source": [
    "RANDOM_SEED = 42\n",
    "random.seed(RANDOM_SEED)\n",
    "np.random.seed(RANDOM_SEED)\n",
    "\n",
    "rgb_dir = 'dataset/rgb'\n",
    "boundary_dir = 'dataset/boundary'\n",
    "batch_size = 100\n",
    "\n",
    "rgb_names, boundary_names = tools.im_exists(rgb_dir, batch_size)\n",
    "\n",
    "dataset_rgb = []\n",
    "dataset_depth = []\n",
    "square_distances = []\n",
    "i_ys = []\n",
    "\n",
    "for image in rgb_names:\n",
    "  dataset_rgb.append(cv.imread(join('dataset/rgb', image)))\n",
    "  dataset_depth.append(cv.imread(join('dataset/depth', image)))\n",
    "\n",
    "for image in boundary_names:\n",
    "  boundary = cv.imread(join('dataset/boundary', image))[:, :, 0].astype(np.uint8)\n",
    "  distance = cv.distanceTransform(cv.bitwise_not(boundary), cv.DIST_L1, maskSize=3)\n",
    "  square_distances.append(distance * distance)\n",
    "  i_ys.append(np.sum(boundary) / 255)\n"
   ]
  },
  {
   "cell_type": "markdown",
   "metadata": {},
   "source": [
    "##### Degradation and Enhancement"
   ]
  },
  {
   "cell_type": "code",
   "execution_count": 3,
   "metadata": {},
   "outputs": [],
   "source": [
    "deg_paths = ['deg_haze', 'deg_haze_depth', 'deg_random_noise', 'deg_reduce_contr_bright', 'deg_none']\n",
    "enh_paths = ['enh_none', 'enh_increase_contr_bright']\n",
    "img_paths = []\n",
    "\n",
    "for method_deg in deg_paths:\n",
    "  degpackage.degrade(method_deg, dataset_rgb, dataset_depth, rgb_names)\n",
    "\n",
    "for method_enh in enh_paths:\n",
    "  for method_deg in deg_paths:\n",
    "    enhpackage.enhance(method_enh, method_deg, dataset_depth, rgb_names)\n"
   ]
  },
  {
   "cell_type": "markdown",
   "metadata": {},
   "source": [
    "##### Quality Evaluation"
   ]
  },
  {
   "cell_type": "code",
   "execution_count": 4,
   "metadata": {},
   "outputs": [
    {
     "name": "stdout",
     "output_type": "stream",
     "text": [
      "Data successfully writen to:  deg_haze\\enh_none\\_quality.csv\n",
      "Data successfully writen to:  deg_haze\\enh_increase_contr_bright\\_quality.csv\n",
      "Data successfully writen to:  deg_haze_depth\\enh_none\\_quality.csv\n",
      "Data successfully writen to:  deg_haze_depth\\enh_increase_contr_bright\\_quality.csv\n"
     ]
    },
    {
     "ename": "KeyboardInterrupt",
     "evalue": "",
     "output_type": "error",
     "traceback": [
      "\u001b[1;31m---------------------------------------------------------------------------\u001b[0m",
      "\u001b[1;31mKeyboardInterrupt\u001b[0m                         Traceback (most recent call last)",
      "Cell \u001b[1;32mIn[4], line 6\u001b[0m\n\u001b[0;32m      3\u001b[0m     img_paths\u001b[38;5;241m.\u001b[39mappend(join(deg, enh))\n\u001b[0;32m      5\u001b[0m \u001b[38;5;28;01mfor\u001b[39;00m path \u001b[38;5;129;01min\u001b[39;00m img_paths:\n\u001b[1;32m----> 6\u001b[0m   \u001b[43mqualitypackage\u001b[49m\u001b[38;5;241;43m.\u001b[39;49m\u001b[43meval_quality\u001b[49m\u001b[43m(\u001b[49m\u001b[43mdataset_rgb\u001b[49m\u001b[43m,\u001b[49m\u001b[43m \u001b[49m\u001b[43mpath\u001b[49m\u001b[43m,\u001b[49m\u001b[43m \u001b[49m\u001b[43mrgb_names\u001b[49m\u001b[43m)\u001b[49m\n",
      "File \u001b[1;32mc:\\Users\\jonny\\Documents\\UIE\\UIE\\qualitypackage.py:28\u001b[0m, in \u001b[0;36meval_quality\u001b[1;34m(dataset_rgb, dir, filenames, save_name)\u001b[0m\n\u001b[0;32m     26\u001b[0m   results[loc\u001b[38;5;241m+\u001b[39m\u001b[38;5;241m1\u001b[39m][\u001b[38;5;241m4\u001b[39m] \u001b[38;5;241m=\u001b[39m np\u001b[38;5;241m.\u001b[39msqrt(sk_mse(rgb, modded_image))\n\u001b[0;32m     27\u001b[0m   \u001b[38;5;66;03m# Structural Similarity Index Metric\u001b[39;00m\n\u001b[1;32m---> 28\u001b[0m   results[loc\u001b[38;5;241m+\u001b[39m\u001b[38;5;241m1\u001b[39m][\u001b[38;5;241m6\u001b[39m] \u001b[38;5;241m=\u001b[39m \u001b[43msk_ssim\u001b[49m\u001b[43m(\u001b[49m\u001b[43mrgb\u001b[49m\u001b[43m,\u001b[49m\u001b[43m \u001b[49m\u001b[43mmodded_image\u001b[49m\u001b[43m,\u001b[49m\u001b[43m \u001b[49m\u001b[43mdata_range\u001b[49m\u001b[38;5;241;43m=\u001b[39;49m\u001b[43mmodded_image\u001b[49m\u001b[38;5;241;43m.\u001b[39;49m\u001b[43mmax\u001b[49m\u001b[43m(\u001b[49m\u001b[43m)\u001b[49m\u001b[43m \u001b[49m\u001b[38;5;241;43m-\u001b[39;49m\u001b[43m \u001b[49m\u001b[43mmodded_image\u001b[49m\u001b[38;5;241;43m.\u001b[39;49m\u001b[43mmin\u001b[49m\u001b[43m(\u001b[49m\u001b[43m)\u001b[49m\u001b[43m,\u001b[49m\u001b[43m \u001b[49m\u001b[43mmultichannel\u001b[49m\u001b[38;5;241;43m=\u001b[39;49m\u001b[38;5;28;43;01mTrue\u001b[39;49;00m\u001b[43m,\u001b[49m\u001b[43m \u001b[49m\u001b[43mchannel_axis\u001b[49m\u001b[38;5;241;43m=\u001b[39;49m\u001b[38;5;241;43m2\u001b[39;49m\u001b[43m)\u001b[49m \n\u001b[0;32m     30\u001b[0m \u001b[38;5;66;03m# Mean\u001b[39;00m\n\u001b[0;32m     31\u001b[0m results_np \u001b[38;5;241m=\u001b[39m np\u001b[38;5;241m.\u001b[39marray(results)\n",
      "File \u001b[1;32mc:\\Users\\jonny\\Documents\\UIE\\UIE\\venv\\Lib\\site-packages\\skimage\\metrics\\_structural_similarity.py:142\u001b[0m, in \u001b[0;36mstructural_similarity\u001b[1;34m(im1, im2, win_size, gradient, data_range, channel_axis, gaussian_weights, full, **kwargs)\u001b[0m\n\u001b[0;32m    140\u001b[0m _at \u001b[38;5;241m=\u001b[39m functools\u001b[38;5;241m.\u001b[39mpartial(utils\u001b[38;5;241m.\u001b[39mslice_at_axis, axis\u001b[38;5;241m=\u001b[39mchannel_axis)\n\u001b[0;32m    141\u001b[0m \u001b[38;5;28;01mfor\u001b[39;00m ch \u001b[38;5;129;01min\u001b[39;00m \u001b[38;5;28mrange\u001b[39m(nch):\n\u001b[1;32m--> 142\u001b[0m     ch_result \u001b[38;5;241m=\u001b[39m \u001b[43mstructural_similarity\u001b[49m\u001b[43m(\u001b[49m\u001b[43mim1\u001b[49m\u001b[43m[\u001b[49m\u001b[43m_at\u001b[49m\u001b[43m(\u001b[49m\u001b[43mch\u001b[49m\u001b[43m)\u001b[49m\u001b[43m]\u001b[49m\u001b[43m,\u001b[49m\u001b[43m \u001b[49m\u001b[43mim2\u001b[49m\u001b[43m[\u001b[49m\u001b[43m_at\u001b[49m\u001b[43m(\u001b[49m\u001b[43mch\u001b[49m\u001b[43m)\u001b[49m\u001b[43m]\u001b[49m\u001b[43m,\u001b[49m\u001b[43m \u001b[49m\u001b[38;5;241;43m*\u001b[39;49m\u001b[38;5;241;43m*\u001b[39;49m\u001b[43margs\u001b[49m\u001b[43m)\u001b[49m\n\u001b[0;32m    143\u001b[0m     \u001b[38;5;28;01mif\u001b[39;00m gradient \u001b[38;5;129;01mand\u001b[39;00m full:\n\u001b[0;32m    144\u001b[0m         mssim[ch], G[_at(ch)], S[_at(ch)] \u001b[38;5;241m=\u001b[39m ch_result\n",
      "File \u001b[1;32mc:\\Users\\jonny\\Documents\\UIE\\UIE\\venv\\Lib\\site-packages\\skimage\\metrics\\_structural_similarity.py:275\u001b[0m, in \u001b[0;36mstructural_similarity\u001b[1;34m(im1, im2, win_size, gradient, data_range, channel_axis, gaussian_weights, full, **kwargs)\u001b[0m\n\u001b[0;32m    272\u001b[0m pad \u001b[38;5;241m=\u001b[39m (win_size \u001b[38;5;241m-\u001b[39m \u001b[38;5;241m1\u001b[39m) \u001b[38;5;241m/\u001b[39m\u001b[38;5;241m/\u001b[39m \u001b[38;5;241m2\u001b[39m\n\u001b[0;32m    274\u001b[0m \u001b[38;5;66;03m# compute (weighted) mean of ssim. Use float64 for accuracy.\u001b[39;00m\n\u001b[1;32m--> 275\u001b[0m mssim \u001b[38;5;241m=\u001b[39m \u001b[43mcrop\u001b[49m\u001b[43m(\u001b[49m\u001b[43mS\u001b[49m\u001b[43m,\u001b[49m\u001b[43m \u001b[49m\u001b[43mpad\u001b[49m\u001b[43m)\u001b[49m\u001b[38;5;241m.\u001b[39mmean(dtype\u001b[38;5;241m=\u001b[39mnp\u001b[38;5;241m.\u001b[39mfloat64)\n\u001b[0;32m    277\u001b[0m \u001b[38;5;28;01mif\u001b[39;00m gradient:\n\u001b[0;32m    278\u001b[0m     \u001b[38;5;66;03m# The following is Eqs. 7-8 of Avanaki 2009.\u001b[39;00m\n\u001b[0;32m    279\u001b[0m     grad \u001b[38;5;241m=\u001b[39m filter_func(A1 \u001b[38;5;241m/\u001b[39m D, \u001b[38;5;241m*\u001b[39m\u001b[38;5;241m*\u001b[39mfilter_args) \u001b[38;5;241m*\u001b[39m im1\n",
      "File \u001b[1;32mc:\\Users\\jonny\\Documents\\UIE\\UIE\\venv\\Lib\\site-packages\\skimage\\util\\arraycrop.py:12\u001b[0m, in \u001b[0;36mcrop\u001b[1;34m(ar, crop_width, copy, order)\u001b[0m\n\u001b[0;32m      7\u001b[0m \u001b[38;5;28;01mfrom\u001b[39;00m \u001b[38;5;21;01mnumbers\u001b[39;00m \u001b[38;5;28;01mimport\u001b[39;00m Integral\n\u001b[0;32m      9\u001b[0m __all__ \u001b[38;5;241m=\u001b[39m [\u001b[38;5;124m'\u001b[39m\u001b[38;5;124mcrop\u001b[39m\u001b[38;5;124m'\u001b[39m]\n\u001b[1;32m---> 12\u001b[0m \u001b[38;5;28;01mdef\u001b[39;00m \u001b[38;5;21mcrop\u001b[39m(ar, crop_width, copy\u001b[38;5;241m=\u001b[39m\u001b[38;5;28;01mFalse\u001b[39;00m, order\u001b[38;5;241m=\u001b[39m\u001b[38;5;124m'\u001b[39m\u001b[38;5;124mK\u001b[39m\u001b[38;5;124m'\u001b[39m):\n\u001b[0;32m     13\u001b[0m \u001b[38;5;250m    \u001b[39m\u001b[38;5;124;03m\"\"\"Crop array `ar` by `crop_width` along each dimension.\u001b[39;00m\n\u001b[0;32m     14\u001b[0m \n\u001b[0;32m     15\u001b[0m \u001b[38;5;124;03m    Parameters\u001b[39;00m\n\u001b[1;32m   (...)\u001b[0m\n\u001b[0;32m     39\u001b[0m \u001b[38;5;124;03m        view of the input array.\u001b[39;00m\n\u001b[0;32m     40\u001b[0m \u001b[38;5;124;03m    \"\"\"\u001b[39;00m\n\u001b[0;32m     41\u001b[0m     ar \u001b[38;5;241m=\u001b[39m np\u001b[38;5;241m.\u001b[39marray(ar, copy\u001b[38;5;241m=\u001b[39m\u001b[38;5;28;01mFalse\u001b[39;00m)\n",
      "\u001b[1;31mKeyboardInterrupt\u001b[0m: "
     ]
    }
   ],
   "source": [
    "for deg in deg_paths:\n",
    "  for enh in enh_paths:\n",
    "    img_paths.append(join(deg, enh))\n",
    "\n",
    "for path in img_paths:\n",
    "  qualitypackage.eval_quality(dataset_rgb, path, rgb_names)"
   ]
  },
  {
   "cell_type": "code",
   "execution_count": null,
   "metadata": {},
   "outputs": [],
   "source": []
  },
  {
   "cell_type": "markdown",
   "metadata": {},
   "source": [
    "##### Edge Detection"
   ]
  },
  {
   "cell_type": "code",
   "execution_count": null,
   "metadata": {},
   "outputs": [],
   "source": [
    "for path in img_paths:\n",
    "\n",
    "  modded_rgb = []\n",
    "\n",
    "  for rgb in rgb_names:\n",
    "    modded_rgb.append(cv.imread(join(path, rgb)))\n",
    "\n",
    "  modded_boundary = edgepackage.edge_detection(path, modded_rgb, boundary_names)\n",
    "  edgepackage.edge_evaluation(path, modded_boundary, boundary_names, square_distances, i_ys)"
   ]
  }
 ],
 "metadata": {
  "kernelspec": {
   "display_name": "venv",
   "language": "python",
   "name": "python3"
  },
  "language_info": {
   "codemirror_mode": {
    "name": "ipython",
    "version": 3
   },
   "file_extension": ".py",
   "mimetype": "text/x-python",
   "name": "python",
   "nbconvert_exporter": "python",
   "pygments_lexer": "ipython3",
   "version": "3.11.9"
  }
 },
 "nbformat": 4,
 "nbformat_minor": 2
}
