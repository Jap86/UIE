{
 "cells": [
  {
   "cell_type": "markdown",
   "metadata": {},
   "source": [
    "##### Imports"
   ]
  },
  {
   "cell_type": "code",
   "execution_count": 2,
   "metadata": {},
   "outputs": [],
   "source": [
    "import cv2 as cv\n",
    "import tools\n",
    "import random\n",
    "from os.path import join\n",
    "import degpackage\n",
    "import enhpackage\n",
    "import qualitypackage\n",
    "import edgepackage\n",
    "\n",
    "import numpy as np\n",
    "import matplotlib.pyplot as plt\n",
    "%matplotlib inline"
   ]
  },
  {
   "cell_type": "markdown",
   "metadata": {},
   "source": [
    "##### Data Loader"
   ]
  },
  {
   "cell_type": "code",
   "execution_count": 3,
   "metadata": {},
   "outputs": [],
   "source": [
    "RANDOM_SEED = 42\n",
    "random.seed(RANDOM_SEED)\n",
    "np.random.seed(RANDOM_SEED)\n",
    "\n",
    "rgb_dir = 'dataset/rgb'\n",
    "boundary_dir = 'dataset/boundary'\n",
    "batch_size = 9229\n",
    "\n",
    "rgb_names, boundary_names = tools.im_exists(rgb_dir, batch_size)\n",
    "\n",
    "dataset_rgb = []\n",
    "dataset_depth = []\n",
    "square_distances = []\n",
    "i_ys = []\n",
    "\n",
    "for image in rgb_names:\n",
    "  dataset_rgb.append(cv.imread(join('dataset/rgb', image)))\n",
    "  dataset_depth.append(cv.imread(join('dataset/depth', image)))\n",
    "\n",
    "for image in boundary_names:\n",
    "  boundary = cv.imread(join('dataset/boundary', image))[:, :, 0].astype(np.uint8)\n",
    "  distance = cv.distanceTransform(cv.bitwise_not(boundary), cv.DIST_L1, maskSize=3)\n",
    "  square_distances.append(distance * distance)\n",
    "  i_ys.append(np.sum(boundary) / 255)\n"
   ]
  },
  {
   "cell_type": "markdown",
   "metadata": {},
   "source": [
    "##### Degradation and Enhancement"
   ]
  },
  {
   "cell_type": "code",
   "execution_count": 4,
   "metadata": {},
   "outputs": [
    {
     "name": "stdout",
     "output_type": "stream",
     "text": [
      "rest\n",
      "rest\n",
      "rest\n",
      "rest\n",
      "rest\n"
     ]
    }
   ],
   "source": [
    "deg_paths = ['deg_haze', 'deg_haze_depth', 'deg_random_noise', 'deg_reduce_contr_bright', 'deg_none']\n",
    "# enh_paths = ['enh_none', 'enh_increase_contr_bright']\n",
    "enh_paths = ['enh_clahe', 'enh_hist_eq']\n",
    "img_paths = []\n",
    "\n",
    "# for method_deg in deg_paths:\n",
    "#   degpackage.degrade(method_deg, dataset_rgb, dataset_depth, rgb_names)\n",
    "\n",
    "for method_enh in enh_paths:\n",
    "  for method_deg in deg_paths:\n",
    "    enhpackage.enhance(method_enh, method_deg, rgb_names)\n"
   ]
  },
  {
   "cell_type": "markdown",
   "metadata": {},
   "source": [
    "##### Quality Evaluation"
   ]
  },
  {
   "cell_type": "code",
   "execution_count": 4,
   "metadata": {},
   "outputs": [
    {
     "name": "stdout",
     "output_type": "stream",
     "text": [
      "Data successfully writen to:  deg_haze\\enh_none\\_quality.csv\n",
      "Data successfully writen to:  deg_haze\\enh_increase_contr_bright\\_quality.csv\n",
      "Data successfully writen to:  deg_haze_depth\\enh_none\\_quality.csv\n",
      "Data successfully writen to:  deg_haze_depth\\enh_increase_contr_bright\\_quality.csv\n",
      "Data successfully writen to:  deg_random_noise\\enh_none\\_quality.csv\n",
      "Data successfully writen to:  deg_random_noise\\enh_increase_contr_bright\\_quality.csv\n",
      "Data successfully writen to:  deg_reduce_contr_bright\\enh_none\\_quality.csv\n",
      "Data successfully writen to:  deg_reduce_contr_bright\\enh_increase_contr_bright\\_quality.csv\n",
      "Data successfully writen to:  deg_none\\enh_none\\_quality.csv\n",
      "Data successfully writen to:  deg_none\\enh_increase_contr_bright\\_quality.csv\n"
     ]
    }
   ],
   "source": [
    "for deg in deg_paths:\n",
    "  for enh in enh_paths:\n",
    "    img_paths.append(join(deg, enh))\n",
    "\n",
    "for path in img_paths:\n",
    "  qualitypackage.eval_quality(dataset_rgb, path, rgb_names)"
   ]
  },
  {
   "cell_type": "markdown",
   "metadata": {},
   "source": [
    "##### Edge Detection"
   ]
  },
  {
   "cell_type": "code",
   "execution_count": 5,
   "metadata": {},
   "outputs": [
    {
     "name": "stdout",
     "output_type": "stream",
     "text": [
      "Images writen to:  deg_haze\\enh_none\n",
      "Data successfully writen to:  deg_haze\\enh_none\\_edge.csv\n",
      "Images writen to:  deg_haze\\enh_increase_contr_bright\n",
      "Data successfully writen to:  deg_haze\\enh_increase_contr_bright\\_edge.csv\n",
      "Images writen to:  deg_haze_depth\\enh_none\n",
      "Data successfully writen to:  deg_haze_depth\\enh_none\\_edge.csv\n",
      "Images writen to:  deg_haze_depth\\enh_increase_contr_bright\n",
      "Data successfully writen to:  deg_haze_depth\\enh_increase_contr_bright\\_edge.csv\n",
      "Images writen to:  deg_random_noise\\enh_none\n",
      "Data successfully writen to:  deg_random_noise\\enh_none\\_edge.csv\n",
      "Images writen to:  deg_random_noise\\enh_increase_contr_bright\n",
      "Data successfully writen to:  deg_random_noise\\enh_increase_contr_bright\\_edge.csv\n",
      "Images writen to:  deg_reduce_contr_bright\\enh_none\n",
      "Data successfully writen to:  deg_reduce_contr_bright\\enh_none\\_edge.csv\n",
      "Images writen to:  deg_reduce_contr_bright\\enh_increase_contr_bright\n",
      "Data successfully writen to:  deg_reduce_contr_bright\\enh_increase_contr_bright\\_edge.csv\n",
      "Images writen to:  deg_none\\enh_none\n",
      "Data successfully writen to:  deg_none\\enh_none\\_edge.csv\n",
      "Images writen to:  deg_none\\enh_increase_contr_bright\n",
      "Data successfully writen to:  deg_none\\enh_increase_contr_bright\\_edge.csv\n"
     ]
    }
   ],
   "source": [
    "for path in img_paths:\n",
    "\n",
    "  modded_rgb = []\n",
    "\n",
    "  for rgb in rgb_names:\n",
    "    modded_rgb.append(cv.imread(join(path, rgb)))\n",
    "\n",
    "  modded_boundary = edgepackage.edge_detection(path, modded_rgb, boundary_names)\n",
    "  edgepackage.edge_evaluation(path, modded_boundary, boundary_names, square_distances, i_ys)"
   ]
  }
 ],
 "metadata": {
  "kernelspec": {
   "display_name": "venv",
   "language": "python",
   "name": "python3"
  },
  "language_info": {
   "codemirror_mode": {
    "name": "ipython",
    "version": 3
   },
   "file_extension": ".py",
   "mimetype": "text/x-python",
   "name": "python",
   "nbconvert_exporter": "python",
   "pygments_lexer": "ipython3",
   "version": "3.11.9"
  }
 },
 "nbformat": 4,
 "nbformat_minor": 2
}
