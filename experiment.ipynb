{
 "cells": [
  {
   "cell_type": "markdown",
   "metadata": {},
   "source": [
    "##### Imports"
   ]
  },
  {
   "cell_type": "code",
   "execution_count": 2,
   "metadata": {},
   "outputs": [],
   "source": [
    "import cv2 as cv\n",
    "import tools\n",
    "import random\n",
    "from os.path import join\n",
    "import degpackage\n",
    "import enhpackage\n",
    "import qualitypackage\n",
    "import edgepackage\n",
    "\n",
    "import numpy as np\n",
    "import matplotlib.pyplot as plt\n",
    "%matplotlib inline"
   ]
  },
  {
   "cell_type": "markdown",
   "metadata": {},
   "source": [
    "##### Data Loader"
   ]
  },
  {
   "cell_type": "code",
   "execution_count": 2,
   "metadata": {},
   "outputs": [],
   "source": [
    "RANDOM_SEED = 42\n",
    "random.seed(RANDOM_SEED)\n",
    "np.random.seed(RANDOM_SEED)\n",
    "\n",
    "rgb_dir = 'dataset/rgb'\n",
    "boundary_dir = 'dataset/boundary'\n",
    "batch_size = 9229\n",
    "\n",
    "rgb_names, boundary_names = tools.im_exists(rgb_dir, batch_size)\n",
    "\n",
    "dataset_rgb = []\n",
    "dataset_depth = []\n",
    "square_distances = []\n",
    "i_ys = []\n",
    "\n",
    "for image in rgb_names:\n",
    "  dataset_rgb.append(cv.imread(join('dataset/rgb', image)))\n",
    "  dataset_depth.append(cv.imread(join('dataset/depth', image)))\n",
    "\n",
    "for image in boundary_names:\n",
    "  boundary = cv.imread(join('dataset/boundary', image))[:, :, 0].astype(np.uint8)\n",
    "  distance = cv.distanceTransform(cv.bitwise_not(boundary), cv.DIST_L1, maskSize=3)\n",
    "  square_distances.append(distance * distance)\n",
    "  i_ys.append(np.sum(boundary) / 255)\n"
   ]
  },
  {
   "cell_type": "markdown",
   "metadata": {},
   "source": [
    "##### Degradation and Enhancement"
   ]
  },
  {
   "cell_type": "code",
   "execution_count": 3,
   "metadata": {},
   "outputs": [],
   "source": [
    "deg_paths = ['deg_haze', 'deg_haze_depth', 'deg_random_noise', 'deg_reduce_contr_bright', 'deg_none']\n",
    "# enh_paths = ['enh_none', 'enh_increase_contr_bright']\n",
    "enh_paths = ['enh_clahe', 'enh_hist_eq']\n",
    "img_paths = []\n",
    "\n",
    "# for method_deg in deg_paths:\n",
    "#   degpackage.degrade(method_deg, dataset_rgb, dataset_depth, rgb_names)\n",
    "\n",
    "for method_enh in enh_paths:\n",
    "  for method_deg in deg_paths:\n",
    "    enhpackage.enhance(method_enh, method_deg, rgb_names)\n"
   ]
  },
  {
   "cell_type": "markdown",
   "metadata": {},
   "source": [
    "##### Quality Evaluation"
   ]
  },
  {
   "cell_type": "code",
   "execution_count": 4,
   "metadata": {},
   "outputs": [
    {
     "name": "stdout",
     "output_type": "stream",
     "text": [
      "Data successfully writen to:  deg_haze\\enh_clahe\\_quality.csv\n",
      "Data successfully writen to:  deg_haze\\enh_hist_eq\\_quality.csv\n",
      "Data successfully writen to:  deg_haze_depth\\enh_clahe\\_quality.csv\n",
      "Data successfully writen to:  deg_haze_depth\\enh_hist_eq\\_quality.csv\n",
      "Data successfully writen to:  deg_random_noise\\enh_clahe\\_quality.csv\n",
      "Data successfully writen to:  deg_random_noise\\enh_hist_eq\\_quality.csv\n",
      "Data successfully writen to:  deg_reduce_contr_bright\\enh_clahe\\_quality.csv\n",
      "Data successfully writen to:  deg_reduce_contr_bright\\enh_hist_eq\\_quality.csv\n",
      "Data successfully writen to:  deg_none\\enh_clahe\\_quality.csv\n",
      "Data successfully writen to:  deg_none\\enh_hist_eq\\_quality.csv\n"
     ]
    }
   ],
   "source": [
    "for deg in deg_paths:\n",
    "  for enh in enh_paths:\n",
    "    img_paths.append(join(deg, enh))\n",
    "\n",
    "for path in img_paths:\n",
    "  qualitypackage.eval_quality(dataset_rgb, path, rgb_names)"
   ]
  },
  {
   "cell_type": "markdown",
   "metadata": {},
   "source": [
    "##### Edge Detection"
   ]
  },
  {
   "cell_type": "code",
   "execution_count": 5,
   "metadata": {},
   "outputs": [
    {
     "name": "stdout",
     "output_type": "stream",
     "text": [
      "Images writen to:  deg_haze\\enh_clahe\n",
      "Data successfully writen to:  deg_haze\\enh_clahe\\_edge.csv\n",
      "Images writen to:  deg_haze\\enh_hist_eq\n",
      "Data successfully writen to:  deg_haze\\enh_hist_eq\\_edge.csv\n",
      "Images writen to:  deg_haze_depth\\enh_clahe\n",
      "Data successfully writen to:  deg_haze_depth\\enh_clahe\\_edge.csv\n",
      "Images writen to:  deg_haze_depth\\enh_hist_eq\n",
      "Data successfully writen to:  deg_haze_depth\\enh_hist_eq\\_edge.csv\n",
      "Images writen to:  deg_random_noise\\enh_clahe\n",
      "Data successfully writen to:  deg_random_noise\\enh_clahe\\_edge.csv\n",
      "Images writen to:  deg_random_noise\\enh_hist_eq\n",
      "Data successfully writen to:  deg_random_noise\\enh_hist_eq\\_edge.csv\n",
      "Images writen to:  deg_reduce_contr_bright\\enh_clahe\n",
      "Data successfully writen to:  deg_reduce_contr_bright\\enh_clahe\\_edge.csv\n",
      "Images writen to:  deg_reduce_contr_bright\\enh_hist_eq\n",
      "Data successfully writen to:  deg_reduce_contr_bright\\enh_hist_eq\\_edge.csv\n",
      "Images writen to:  deg_none\\enh_clahe\n",
      "Data successfully writen to:  deg_none\\enh_clahe\\_edge.csv\n",
      "Images writen to:  deg_none\\enh_hist_eq\n",
      "Data successfully writen to:  deg_none\\enh_hist_eq\\_edge.csv\n"
     ]
    }
   ],
   "source": [
    "for path in img_paths:\n",
    "\n",
    "  modded_rgb = []\n",
    "\n",
    "  for rgb in rgb_names:\n",
    "    modded_rgb.append(cv.imread(join(path, rgb)))\n",
    "\n",
    "  modded_boundary = edgepackage.edge_detection(path, modded_rgb, boundary_names)\n",
    "  edgepackage.edge_evaluation(path, modded_boundary, boundary_names, square_distances, i_ys)"
   ]
  },
  {
   "cell_type": "markdown",
   "metadata": {},
   "source": [
    "##### Delete"
   ]
  },
  {
   "cell_type": "code",
   "execution_count": 11,
   "metadata": {},
   "outputs": [
    {
     "ename": "error",
     "evalue": "OpenCV(4.9.0) d:\\a\\opencv-python\\opencv-python\\opencv\\modules\\imgproc\\src\\color.simd_helpers.hpp:94: error: (-2:Unspecified error) in function '__cdecl cv::impl::`anonymous-namespace'::CvtHelper<struct cv::impl::`anonymous namespace'::Set<1,-1,-1>,struct cv::impl::A0x59191d0d::Set<3,4,-1>,struct cv::impl::A0x59191d0d::Set<0,2,5>,4>::CvtHelper(const class cv::_InputArray &,const class cv::_OutputArray &,int)'\n> Unsupported depth of input image:\n>     'VDepth::contains(depth)'\n> where\n>     'depth' is 6 (CV_64F)\n",
     "output_type": "error",
     "traceback": [
      "\u001b[1;31m---------------------------------------------------------------------------\u001b[0m",
      "\u001b[1;31merror\u001b[0m                                     Traceback (most recent call last)",
      "Cell \u001b[1;32mIn[11], line 4\u001b[0m\n\u001b[0;32m      2\u001b[0m sobx \u001b[38;5;241m=\u001b[39m cv\u001b[38;5;241m.\u001b[39mSobel(img_gray, cv\u001b[38;5;241m.\u001b[39mCV_64F, \u001b[38;5;241m1\u001b[39m, \u001b[38;5;241m0\u001b[39m, ksize\u001b[38;5;241m=\u001b[39m\u001b[38;5;241m5\u001b[39m)\n\u001b[0;32m      3\u001b[0m soby \u001b[38;5;241m=\u001b[39m cv\u001b[38;5;241m.\u001b[39mSobel(img_gray, cv\u001b[38;5;241m.\u001b[39mCV_64F, \u001b[38;5;241m0\u001b[39m, \u001b[38;5;241m1\u001b[39m, ksize\u001b[38;5;241m=\u001b[39m\u001b[38;5;241m5\u001b[39m)\n\u001b[1;32m----> 4\u001b[0m sob \u001b[38;5;241m=\u001b[39m \u001b[43mcv\u001b[49m\u001b[38;5;241;43m.\u001b[39;49m\u001b[43mcvtColor\u001b[49m\u001b[43m(\u001b[49m\u001b[43m(\u001b[49m\u001b[43msobx\u001b[49m\u001b[38;5;241;43m+\u001b[39;49m\u001b[43msoby\u001b[49m\u001b[43m)\u001b[49m\u001b[43m,\u001b[49m\u001b[43m \u001b[49m\u001b[43mcv\u001b[49m\u001b[38;5;241;43m.\u001b[39;49m\u001b[43mCOLOR_BGR2RGB\u001b[49m\u001b[43m)\u001b[49m\n\u001b[0;32m      6\u001b[0m plt\u001b[38;5;241m.\u001b[39mimshow(sobx)\n\u001b[0;32m      7\u001b[0m plt\u001b[38;5;241m.\u001b[39mshow()\n",
      "\u001b[1;31merror\u001b[0m: OpenCV(4.9.0) d:\\a\\opencv-python\\opencv-python\\opencv\\modules\\imgproc\\src\\color.simd_helpers.hpp:94: error: (-2:Unspecified error) in function '__cdecl cv::impl::`anonymous-namespace'::CvtHelper<struct cv::impl::`anonymous namespace'::Set<1,-1,-1>,struct cv::impl::A0x59191d0d::Set<3,4,-1>,struct cv::impl::A0x59191d0d::Set<0,2,5>,4>::CvtHelper(const class cv::_InputArray &,const class cv::_OutputArray &,int)'\n> Unsupported depth of input image:\n>     'VDepth::contains(depth)'\n> where\n>     'depth' is 6 (CV_64F)\n"
     ]
    }
   ],
   "source": [
    "img_gray = cv.imread('dataset/rgb/09831.png', cv.IMREAD_GRAYSCALE)\n",
    "sobx = cv.Sobel(img_gray, cv.CV_64F, 1, 0, ksize=5)\n",
    "soby = cv.Sobel(img_gray, cv.CV_64F, 0, 1, ksize=5)\n",
    "sob = sobx+soby\n",
    "cv.imwrite('report_images/Sobel_09831.png', sob)\n",
    "\n",
    "plt.imshow(sobx)\n",
    "plt.show()\n",
    "plt.imshow(soby)\n",
    "plt.show()\n",
    "plt.imshow(sob)\n",
    "plt.show()"
   ]
  }
 ],
 "metadata": {
  "kernelspec": {
   "display_name": "venv",
   "language": "python",
   "name": "python3"
  },
  "language_info": {
   "codemirror_mode": {
    "name": "ipython",
    "version": 3
   },
   "file_extension": ".py",
   "mimetype": "text/x-python",
   "name": "python",
   "nbconvert_exporter": "python",
   "pygments_lexer": "ipython3",
   "version": "3.11.9"
  }
 },
 "nbformat": 4,
 "nbformat_minor": 2
}
